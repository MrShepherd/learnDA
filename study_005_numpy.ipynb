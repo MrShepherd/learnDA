{
 "cells": [
  {
   "cell_type": "code",
   "execution_count": 2,
   "metadata": {
    "collapsed": true
   },
   "outputs": [],
   "source": [
    "%matplotlib inline\n",
    "from __future__ import division\n",
    "from numpy.random import randn\n",
    "import numpy as np\n",
    "np.set_printoptions(precision=4, suppress=True)"
   ]
  },
  {
   "cell_type": "code",
   "execution_count": 3,
   "metadata": {
    "collapsed": false
   },
   "outputs": [
    {
     "data": {
      "text/plain": [
       "array([[ 0.9009, -2.2912,  0.2511],\n",
       "       [ 1.5037,  2.4861,  0.6003]])"
      ]
     },
     "execution_count": 3,
     "metadata": {},
     "output_type": "execute_result"
    }
   ],
   "source": [
    "data=randn(2,3)\n",
    "data"
   ]
  },
  {
   "cell_type": "code",
   "execution_count": 4,
   "metadata": {
    "collapsed": false
   },
   "outputs": [
    {
     "data": {
      "text/plain": [
       "array([[  9.009 , -22.9118,   2.5106],\n",
       "       [ 15.0371,  24.8613,   6.0032]])"
      ]
     },
     "execution_count": 4,
     "metadata": {},
     "output_type": "execute_result"
    }
   ],
   "source": [
    "data*10"
   ]
  },
  {
   "cell_type": "code",
   "execution_count": 5,
   "metadata": {
    "collapsed": false
   },
   "outputs": [
    {
     "data": {
      "text/plain": [
       "array([[ 1.8018, -4.5824,  0.5021],\n",
       "       [ 3.0074,  4.9723,  1.2006]])"
      ]
     },
     "execution_count": 5,
     "metadata": {},
     "output_type": "execute_result"
    }
   ],
   "source": [
    "data+data"
   ]
  },
  {
   "cell_type": "code",
   "execution_count": 6,
   "metadata": {
    "collapsed": false
   },
   "outputs": [
    {
     "data": {
      "text/plain": [
       "(2, 3)"
      ]
     },
     "execution_count": 6,
     "metadata": {},
     "output_type": "execute_result"
    }
   ],
   "source": [
    "data.shape"
   ]
  },
  {
   "cell_type": "code",
   "execution_count": 7,
   "metadata": {
    "collapsed": false
   },
   "outputs": [
    {
     "data": {
      "text/plain": [
       "dtype('float64')"
      ]
     },
     "execution_count": 7,
     "metadata": {},
     "output_type": "execute_result"
    }
   ],
   "source": [
    "data.dtype"
   ]
  },
  {
   "cell_type": "code",
   "execution_count": 8,
   "metadata": {
    "collapsed": false
   },
   "outputs": [
    {
     "data": {
      "text/plain": [
       "array([ 1. ,  2. ,  3. ,  4. ,  5. ,  6.6])"
      ]
     },
     "execution_count": 8,
     "metadata": {},
     "output_type": "execute_result"
    }
   ],
   "source": [
    "data=[1,2.0,3,4,5,6.6]\n",
    "arr=np.array(data)\n",
    "arr"
   ]
  },
  {
   "cell_type": "code",
   "execution_count": 9,
   "metadata": {
    "collapsed": false
   },
   "outputs": [
    {
     "data": {
      "text/plain": [
       "dtype('float64')"
      ]
     },
     "execution_count": 9,
     "metadata": {},
     "output_type": "execute_result"
    }
   ],
   "source": [
    "arr.dtype"
   ]
  },
  {
   "cell_type": "code",
   "execution_count": 10,
   "metadata": {
    "collapsed": false
   },
   "outputs": [
    {
     "data": {
      "text/plain": [
       "array([[1, 2, 3],\n",
       "       [4, 5, 6]])"
      ]
     },
     "execution_count": 10,
     "metadata": {},
     "output_type": "execute_result"
    }
   ],
   "source": [
    "data=[[1,2,3],[4,5,6]]\n",
    "arr=np.array(data)\n",
    "arr"
   ]
  },
  {
   "cell_type": "code",
   "execution_count": 11,
   "metadata": {
    "collapsed": false
   },
   "outputs": [
    {
     "data": {
      "text/plain": [
       "dtype('int64')"
      ]
     },
     "execution_count": 11,
     "metadata": {},
     "output_type": "execute_result"
    }
   ],
   "source": [
    "arr.dtype"
   ]
  },
  {
   "cell_type": "code",
   "execution_count": 12,
   "metadata": {
    "collapsed": false
   },
   "outputs": [
    {
     "data": {
      "text/plain": [
       "array([ 0.,  0.,  0.,  0.,  0.,  0.,  0.,  0.,  0.,  0.])"
      ]
     },
     "execution_count": 12,
     "metadata": {},
     "output_type": "execute_result"
    }
   ],
   "source": [
    "np.zeros(10)"
   ]
  },
  {
   "cell_type": "code",
   "execution_count": 13,
   "metadata": {
    "collapsed": false
   },
   "outputs": [
    {
     "data": {
      "text/plain": [
       "array([ 0.,  1.,  2.])"
      ]
     },
     "execution_count": 13,
     "metadata": {},
     "output_type": "execute_result"
    }
   ],
   "source": [
    "np.empty(3)"
   ]
  },
  {
   "cell_type": "code",
   "execution_count": 14,
   "metadata": {
    "collapsed": false
   },
   "outputs": [
    {
     "data": {
      "text/plain": [
       "array([ 0,  1,  2,  3,  4,  5,  6,  7,  8,  9, 10, 11, 12, 13, 14])"
      ]
     },
     "execution_count": 14,
     "metadata": {},
     "output_type": "execute_result"
    }
   ],
   "source": [
    "np.arange(15)"
   ]
  },
  {
   "cell_type": "code",
   "execution_count": 18,
   "metadata": {
    "collapsed": false
   },
   "outputs": [
    {
     "data": {
      "text/plain": [
       "dtype('float64')"
      ]
     },
     "execution_count": 18,
     "metadata": {},
     "output_type": "execute_result"
    }
   ],
   "source": [
    "arr=np.array([1,2,3],dtype=np.float64)\n",
    "arr.dtype"
   ]
  },
  {
   "cell_type": "code",
   "execution_count": 21,
   "metadata": {
    "collapsed": false
   },
   "outputs": [
    {
     "data": {
      "text/plain": [
       "dtype('int64')"
      ]
     },
     "execution_count": 21,
     "metadata": {},
     "output_type": "execute_result"
    }
   ],
   "source": [
    "int_arr=arr.astype('int64')\n",
    "int_arr.dtype"
   ]
  },
  {
   "cell_type": "code",
   "execution_count": 25,
   "metadata": {
    "collapsed": false
   },
   "outputs": [
    {
     "data": {
      "text/plain": [
       "array([[1, 2, 3],\n",
       "       [4, 5, 6]])"
      ]
     },
     "execution_count": 25,
     "metadata": {},
     "output_type": "execute_result"
    }
   ],
   "source": [
    "arr=np.array([[1,2,3],[4,5,6]])\n",
    "arr"
   ]
  },
  {
   "cell_type": "code",
   "execution_count": 26,
   "metadata": {
    "collapsed": false
   },
   "outputs": [
    {
     "data": {
      "text/plain": [
       "array([[ 1,  4,  9],\n",
       "       [16, 25, 36]])"
      ]
     },
     "execution_count": 26,
     "metadata": {},
     "output_type": "execute_result"
    }
   ],
   "source": [
    "arr*arr"
   ]
  },
  {
   "cell_type": "code",
   "execution_count": 27,
   "metadata": {
    "collapsed": false
   },
   "outputs": [
    {
     "data": {
      "text/plain": [
       "array([[ 2,  4,  6],\n",
       "       [ 8, 10, 12]])"
      ]
     },
     "execution_count": 27,
     "metadata": {},
     "output_type": "execute_result"
    }
   ],
   "source": [
    "arr+arr"
   ]
  },
  {
   "cell_type": "code",
   "execution_count": 28,
   "metadata": {
    "collapsed": false
   },
   "outputs": [
    {
     "data": {
      "text/plain": [
       "array([[ 1.    ,  0.5   ,  0.3333],\n",
       "       [ 0.25  ,  0.2   ,  0.1667]])"
      ]
     },
     "execution_count": 28,
     "metadata": {},
     "output_type": "execute_result"
    }
   ],
   "source": [
    "1/arr"
   ]
  },
  {
   "cell_type": "code",
   "execution_count": 29,
   "metadata": {
    "collapsed": false
   },
   "outputs": [
    {
     "data": {
      "text/plain": [
       "array([[ 1.    ,  1.4142,  1.7321],\n",
       "       [ 2.    ,  2.2361,  2.4495]])"
      ]
     },
     "execution_count": 29,
     "metadata": {},
     "output_type": "execute_result"
    }
   ],
   "source": [
    "arr**0.5"
   ]
  },
  {
   "cell_type": "code",
   "execution_count": 30,
   "metadata": {
    "collapsed": false
   },
   "outputs": [
    {
     "data": {
      "text/plain": [
       "array([0, 1, 2, 3, 4, 5, 6, 7, 8, 9])"
      ]
     },
     "execution_count": 30,
     "metadata": {},
     "output_type": "execute_result"
    }
   ],
   "source": [
    "arr=np.arange(10)\n",
    "arr"
   ]
  },
  {
   "cell_type": "code",
   "execution_count": 31,
   "metadata": {
    "collapsed": false
   },
   "outputs": [
    {
     "data": {
      "text/plain": [
       "5"
      ]
     },
     "execution_count": 31,
     "metadata": {},
     "output_type": "execute_result"
    }
   ],
   "source": [
    "arr[5]"
   ]
  },
  {
   "cell_type": "code",
   "execution_count": 32,
   "metadata": {
    "collapsed": false
   },
   "outputs": [
    {
     "data": {
      "text/plain": [
       "array([5, 6, 7, 8, 9])"
      ]
     },
     "execution_count": 32,
     "metadata": {},
     "output_type": "execute_result"
    }
   ],
   "source": [
    "arr[5:10]"
   ]
  },
  {
   "cell_type": "code",
   "execution_count": 33,
   "metadata": {
    "collapsed": false
   },
   "outputs": [
    {
     "data": {
      "text/plain": [
       "array([0, 1, 6, 6, 4, 5, 6, 7, 8, 9])"
      ]
     },
     "execution_count": 33,
     "metadata": {},
     "output_type": "execute_result"
    }
   ],
   "source": [
    "arr[2:4]=6\n",
    "arr"
   ]
  },
  {
   "cell_type": "code",
   "execution_count": 34,
   "metadata": {
    "collapsed": false
   },
   "outputs": [
    {
     "data": {
      "text/plain": [
       "array([  5, 111,   7])"
      ]
     },
     "execution_count": 34,
     "metadata": {},
     "output_type": "execute_result"
    }
   ],
   "source": [
    "arr_slice=arr[5:8]\n",
    "arr_slice[1]=111\n",
    "arr_slice"
   ]
  },
  {
   "cell_type": "code",
   "execution_count": 35,
   "metadata": {
    "collapsed": false
   },
   "outputs": [
    {
     "data": {
      "text/plain": [
       "array([  0,   1,   6,   6,   4,   5, 111,   7,   8,   9])"
      ]
     },
     "execution_count": 35,
     "metadata": {},
     "output_type": "execute_result"
    }
   ],
   "source": [
    "arr"
   ]
  },
  {
   "cell_type": "code",
   "execution_count": 36,
   "metadata": {
    "collapsed": false
   },
   "outputs": [
    {
     "data": {
      "text/plain": [
       "array([  0,   1,   6,   6,   4, 999, 999, 999,   8,   9])"
      ]
     },
     "execution_count": 36,
     "metadata": {},
     "output_type": "execute_result"
    }
   ],
   "source": [
    "arr_slice[:]=999\n",
    "arr"
   ]
  },
  {
   "cell_type": "code",
   "execution_count": 38,
   "metadata": {
    "collapsed": false
   },
   "outputs": [
    {
     "data": {
      "text/plain": [
       "array([7, 8, 9])"
      ]
     },
     "execution_count": 38,
     "metadata": {},
     "output_type": "execute_result"
    }
   ],
   "source": [
    "arr=np.array([[1,2,3],[4,5,6],[7,8,9]])\n",
    "arr[2]"
   ]
  },
  {
   "cell_type": "code",
   "execution_count": 39,
   "metadata": {
    "collapsed": false
   },
   "outputs": [
    {
     "data": {
      "text/plain": [
       "3"
      ]
     },
     "execution_count": 39,
     "metadata": {},
     "output_type": "execute_result"
    }
   ],
   "source": [
    "arr[0][2]"
   ]
  },
  {
   "cell_type": "code",
   "execution_count": 40,
   "metadata": {
    "collapsed": false
   },
   "outputs": [
    {
     "data": {
      "text/plain": [
       "3"
      ]
     },
     "execution_count": 40,
     "metadata": {},
     "output_type": "execute_result"
    }
   ],
   "source": [
    "arr[0,2]"
   ]
  },
  {
   "cell_type": "code",
   "execution_count": 42,
   "metadata": {
    "collapsed": false
   },
   "outputs": [
    {
     "data": {
      "text/plain": [
       "array([[[ 1,  2,  3],\n",
       "        [ 4,  5,  6]],\n",
       "\n",
       "       [[ 7,  8,  9],\n",
       "        [10, 11, 12]]])"
      ]
     },
     "execution_count": 42,
     "metadata": {},
     "output_type": "execute_result"
    }
   ],
   "source": [
    "arr=np.array([[[1,2,3],[4,5,6]],[[7,8,9],[10,11,12]]])\n",
    "arr"
   ]
  },
  {
   "cell_type": "code",
   "execution_count": 43,
   "metadata": {
    "collapsed": false
   },
   "outputs": [
    {
     "data": {
      "text/plain": [
       "array([[1, 2, 3],\n",
       "       [4, 5, 6]])"
      ]
     },
     "execution_count": 43,
     "metadata": {},
     "output_type": "execute_result"
    }
   ],
   "source": [
    "arr[0]"
   ]
  },
  {
   "cell_type": "code",
   "execution_count": 47,
   "metadata": {
    "collapsed": false
   },
   "outputs": [
    {
     "data": {
      "text/plain": [
       "array([[1, 2, 3],\n",
       "       [4, 5, 6]])"
      ]
     },
     "execution_count": 47,
     "metadata": {},
     "output_type": "execute_result"
    }
   ],
   "source": [
    "arr_tmp=arr[0].copy()\n",
    "arr_tmp"
   ]
  },
  {
   "cell_type": "code",
   "execution_count": 49,
   "metadata": {
    "collapsed": false
   },
   "outputs": [
    {
     "data": {
      "text/plain": [
       "array([[[333, 333, 333],\n",
       "        [333, 333, 333]],\n",
       "\n",
       "       [[  7,   8,   9],\n",
       "        [ 10,  11,  12]]])"
      ]
     },
     "execution_count": 49,
     "metadata": {},
     "output_type": "execute_result"
    }
   ],
   "source": [
    "arr[0]=333\n",
    "arr"
   ]
  },
  {
   "cell_type": "code",
   "execution_count": 51,
   "metadata": {
    "collapsed": false
   },
   "outputs": [
    {
     "data": {
      "text/plain": [
       "array([[[ 1,  2,  3],\n",
       "        [ 4,  5,  6]],\n",
       "\n",
       "       [[ 7,  8,  9],\n",
       "        [10, 11, 12]]])"
      ]
     },
     "execution_count": 51,
     "metadata": {},
     "output_type": "execute_result"
    }
   ],
   "source": [
    "arr[0]=arr_tmp\n",
    "arr"
   ]
  },
  {
   "cell_type": "code",
   "execution_count": 52,
   "metadata": {
    "collapsed": false
   },
   "outputs": [
    {
     "data": {
      "text/plain": [
       "array([7, 8, 9])"
      ]
     },
     "execution_count": 52,
     "metadata": {},
     "output_type": "execute_result"
    }
   ],
   "source": [
    "arr[1,0]"
   ]
  },
  {
   "cell_type": "code",
   "execution_count": 54,
   "metadata": {
    "collapsed": false
   },
   "outputs": [
    {
     "data": {
      "text/plain": [
       "array([[2, 3],\n",
       "       [5, 6]])"
      ]
     },
     "execution_count": 54,
     "metadata": {},
     "output_type": "execute_result"
    }
   ],
   "source": [
    "arr=np.array([[1,2,3],[4,5,6],[7,8,9]])\n",
    "arr[:2,1:]"
   ]
  },
  {
   "cell_type": "code",
   "execution_count": 55,
   "metadata": {
    "collapsed": false
   },
   "outputs": [
    {
     "data": {
      "text/plain": [
       "array([4, 5])"
      ]
     },
     "execution_count": 55,
     "metadata": {},
     "output_type": "execute_result"
    }
   ],
   "source": [
    "arr[1,:2]"
   ]
  },
  {
   "cell_type": "code",
   "execution_count": 57,
   "metadata": {
    "collapsed": false
   },
   "outputs": [
    {
     "data": {
      "text/plain": [
       "array([[1],\n",
       "       [4],\n",
       "       [7]])"
      ]
     },
     "execution_count": 57,
     "metadata": {},
     "output_type": "execute_result"
    }
   ],
   "source": [
    "arr[:,:1]"
   ]
  },
  {
   "cell_type": "code",
   "execution_count": 59,
   "metadata": {
    "collapsed": false
   },
   "outputs": [
    {
     "data": {
      "text/plain": [
       "array([[ 0.4974, -0.7858,  1.792 ,  1.7879],\n",
       "       [-0.6346,  0.5822,  2.1283,  1.4283],\n",
       "       [-0.4838, -0.1031, -0.4066,  0.2241],\n",
       "       [ 1.3068,  0.2822, -0.1514, -1.3893],\n",
       "       [-1.3674,  0.0992, -0.2537, -1.0517],\n",
       "       [ 0.0156, -0.0417, -0.4468, -0.6367],\n",
       "       [ 0.6966,  0.4201, -0.6001, -1.203 ]])"
      ]
     },
     "execution_count": 59,
     "metadata": {},
     "output_type": "execute_result"
    }
   ],
   "source": [
    "names=np.array(['bob','joe','will','bob','will','joe','joe'])\n",
    "data=randn(7,4)\n",
    "data"
   ]
  },
  {
   "cell_type": "code",
   "execution_count": 60,
   "metadata": {
    "collapsed": false
   },
   "outputs": [
    {
     "data": {
      "text/plain": [
       "array([ True, False, False,  True, False, False, False], dtype=bool)"
      ]
     },
     "execution_count": 60,
     "metadata": {},
     "output_type": "execute_result"
    }
   ],
   "source": [
    "names=='bob'"
   ]
  },
  {
   "cell_type": "code",
   "execution_count": 61,
   "metadata": {
    "collapsed": false
   },
   "outputs": [
    {
     "data": {
      "text/plain": [
       "array([[ 0.4974, -0.7858,  1.792 ,  1.7879],\n",
       "       [ 1.3068,  0.2822, -0.1514, -1.3893]])"
      ]
     },
     "execution_count": 61,
     "metadata": {},
     "output_type": "execute_result"
    }
   ],
   "source": [
    "data[names=='bob']"
   ]
  },
  {
   "cell_type": "code",
   "execution_count": 62,
   "metadata": {
    "collapsed": false
   },
   "outputs": [
    {
     "data": {
      "text/plain": [
       "array(['bob', 'bob'], \n",
       "      dtype='<U4')"
      ]
     },
     "execution_count": 62,
     "metadata": {},
     "output_type": "execute_result"
    }
   ],
   "source": [
    "names[names=='bob']"
   ]
  },
  {
   "cell_type": "code",
   "execution_count": 63,
   "metadata": {
    "collapsed": false
   },
   "outputs": [
    {
     "data": {
      "text/plain": [
       "array([[ 1.792 ,  1.7879],\n",
       "       [-0.1514, -1.3893]])"
      ]
     },
     "execution_count": 63,
     "metadata": {},
     "output_type": "execute_result"
    }
   ],
   "source": [
    "data[names=='bob',2:]"
   ]
  },
  {
   "cell_type": "code",
   "execution_count": 64,
   "metadata": {
    "collapsed": false
   },
   "outputs": [
    {
     "data": {
      "text/plain": [
       "array([[-0.6346,  0.5822,  2.1283,  1.4283],\n",
       "       [-0.4838, -0.1031, -0.4066,  0.2241],\n",
       "       [-1.3674,  0.0992, -0.2537, -1.0517],\n",
       "       [ 0.0156, -0.0417, -0.4468, -0.6367],\n",
       "       [ 0.6966,  0.4201, -0.6001, -1.203 ]])"
      ]
     },
     "execution_count": 64,
     "metadata": {},
     "output_type": "execute_result"
    }
   ],
   "source": [
    "data[names!='bob']"
   ]
  },
  {
   "cell_type": "code",
   "execution_count": 67,
   "metadata": {
    "collapsed": false
   },
   "outputs": [
    {
     "data": {
      "text/plain": [
       "array([[ 0.4974, -0.7858,  1.792 ,  1.7879],\n",
       "       [-0.6346,  0.5822,  2.1283,  1.4283],\n",
       "       [ 1.3068,  0.2822, -0.1514, -1.3893],\n",
       "       [ 0.0156, -0.0417, -0.4468, -0.6367],\n",
       "       [ 0.6966,  0.4201, -0.6001, -1.203 ]])"
      ]
     },
     "execution_count": 67,
     "metadata": {},
     "output_type": "execute_result"
    }
   ],
   "source": [
    "data[(names=='bob')|(names=='joe')]"
   ]
  },
  {
   "cell_type": "code",
   "execution_count": 68,
   "metadata": {
    "collapsed": false
   },
   "outputs": [
    {
     "data": {
      "text/plain": [
       "array([[ 0.4974,  0.    ,  1.792 ,  1.7879],\n",
       "       [ 0.    ,  0.5822,  2.1283,  1.4283],\n",
       "       [ 0.    ,  0.    ,  0.    ,  0.2241],\n",
       "       [ 1.3068,  0.2822,  0.    ,  0.    ],\n",
       "       [ 0.    ,  0.0992,  0.    ,  0.    ],\n",
       "       [ 0.0156,  0.    ,  0.    ,  0.    ],\n",
       "       [ 0.6966,  0.4201,  0.    ,  0.    ]])"
      ]
     },
     "execution_count": 68,
     "metadata": {},
     "output_type": "execute_result"
    }
   ],
   "source": [
    "data[data<0]=0\n",
    "data"
   ]
  },
  {
   "cell_type": "code",
   "execution_count": 70,
   "metadata": {
    "collapsed": false
   },
   "outputs": [
    {
     "data": {
      "text/plain": [
       "array([[ 9999.    ,  9999.    ,  9999.    ,  9999.    ],\n",
       "       [    0.    ,     0.5822,     2.1283,     1.4283],\n",
       "       [ 9999.    ,  9999.    ,  9999.    ,  9999.    ],\n",
       "       [ 9999.    ,  9999.    ,  9999.    ,  9999.    ],\n",
       "       [ 9999.    ,  9999.    ,  9999.    ,  9999.    ],\n",
       "       [    0.0156,     0.    ,     0.    ,     0.    ],\n",
       "       [    0.6966,     0.4201,     0.    ,     0.    ]])"
      ]
     },
     "execution_count": 70,
     "metadata": {},
     "output_type": "execute_result"
    }
   ],
   "source": [
    "data[names!='joe']=9999\n",
    "data"
   ]
  },
  {
   "cell_type": "code",
   "execution_count": 73,
   "metadata": {
    "collapsed": false
   },
   "outputs": [
    {
     "data": {
      "text/plain": [
       "array([[ 0.,  0.,  0.,  0.],\n",
       "       [ 1.,  1.,  1.,  1.],\n",
       "       [ 2.,  2.,  2.,  2.],\n",
       "       [ 3.,  3.,  3.,  3.],\n",
       "       [ 4.,  4.,  4.,  4.],\n",
       "       [ 5.,  5.,  5.,  5.],\n",
       "       [ 6.,  6.,  6.,  6.],\n",
       "       [ 7.,  7.,  7.,  7.]])"
      ]
     },
     "execution_count": 73,
     "metadata": {},
     "output_type": "execute_result"
    }
   ],
   "source": [
    "arr=np.empty((8,4))\n",
    "for i in range(8):\n",
    "    arr[i]=i\n",
    "arr"
   ]
  },
  {
   "cell_type": "code",
   "execution_count": 74,
   "metadata": {
    "collapsed": false
   },
   "outputs": [
    {
     "data": {
      "text/plain": [
       "array([[ 4.,  4.,  4.,  4.],\n",
       "       [ 3.,  3.,  3.,  3.],\n",
       "       [ 0.,  0.,  0.,  0.],\n",
       "       [ 6.,  6.,  6.,  6.]])"
      ]
     },
     "execution_count": 74,
     "metadata": {},
     "output_type": "execute_result"
    }
   ],
   "source": [
    "arr[[4,3,0,6]]"
   ]
  },
  {
   "cell_type": "code",
   "execution_count": 75,
   "metadata": {
    "collapsed": false
   },
   "outputs": [
    {
     "data": {
      "text/plain": [
       "array([[ 0,  1,  2,  3],\n",
       "       [ 4,  5,  6,  7],\n",
       "       [ 8,  9, 10, 11],\n",
       "       [12, 13, 14, 15],\n",
       "       [16, 17, 18, 19],\n",
       "       [20, 21, 22, 23],\n",
       "       [24, 25, 26, 27],\n",
       "       [28, 29, 30, 31]])"
      ]
     },
     "execution_count": 75,
     "metadata": {},
     "output_type": "execute_result"
    }
   ],
   "source": [
    "arr=np.arange(32).reshape(8,4)\n",
    "arr"
   ]
  },
  {
   "cell_type": "code",
   "execution_count": 76,
   "metadata": {
    "collapsed": false
   },
   "outputs": [
    {
     "data": {
      "text/plain": [
       "array([[ 4,  5,  6,  7],\n",
       "       [28, 29, 30, 31],\n",
       "       [20, 21, 22, 23],\n",
       "       [ 8,  9, 10, 11]])"
      ]
     },
     "execution_count": 76,
     "metadata": {},
     "output_type": "execute_result"
    }
   ],
   "source": [
    "arr[[1,7,5,2]]"
   ]
  },
  {
   "cell_type": "code",
   "execution_count": 77,
   "metadata": {
    "collapsed": false
   },
   "outputs": [
    {
     "data": {
      "text/plain": [
       "array([ 4, 31, 21, 10])"
      ]
     },
     "execution_count": 77,
     "metadata": {},
     "output_type": "execute_result"
    }
   ],
   "source": [
    "arr[[1,7,5,2],[0,3,1,2]]"
   ]
  },
  {
   "cell_type": "code",
   "execution_count": 79,
   "metadata": {
    "collapsed": false
   },
   "outputs": [
    {
     "data": {
      "text/plain": [
       "array([[ 0,  5, 10],\n",
       "       [ 1,  6, 11],\n",
       "       [ 2,  7, 12],\n",
       "       [ 3,  8, 13],\n",
       "       [ 4,  9, 14]])"
      ]
     },
     "execution_count": 79,
     "metadata": {},
     "output_type": "execute_result"
    }
   ],
   "source": [
    "arr=np.arange(15).reshape(3,5)\n",
    "arr.T"
   ]
  },
  {
   "cell_type": "code",
   "execution_count": 81,
   "metadata": {
    "collapsed": false
   },
   "outputs": [
    {
     "data": {
      "text/plain": [
       "array([0, 1, 2, 3, 4, 5, 6, 7, 8, 9])"
      ]
     },
     "execution_count": 81,
     "metadata": {},
     "output_type": "execute_result"
    }
   ],
   "source": [
    "arr=np.arange(10)\n",
    "arr"
   ]
  },
  {
   "cell_type": "code",
   "execution_count": 82,
   "metadata": {
    "collapsed": false
   },
   "outputs": [
    {
     "data": {
      "text/plain": [
       "array([ 0.    ,  1.    ,  1.4142,  1.7321,  2.    ,  2.2361,  2.4495,\n",
       "        2.6458,  2.8284,  3.    ])"
      ]
     },
     "execution_count": 82,
     "metadata": {},
     "output_type": "execute_result"
    }
   ],
   "source": [
    "np.sqrt(arr)"
   ]
  },
  {
   "cell_type": "code",
   "execution_count": 85,
   "metadata": {
    "collapsed": false
   },
   "outputs": [
    {
     "data": {
      "text/plain": [
       "array([    1.    ,     2.7183,     7.3891,    20.0855,    54.5982,\n",
       "         148.4132,   403.4288,  1096.6332,  2980.958 ,  8103.0839])"
      ]
     },
     "execution_count": 85,
     "metadata": {},
     "output_type": "execute_result"
    }
   ],
   "source": [
    "np.exp(arr)"
   ]
  },
  {
   "cell_type": "code",
   "execution_count": 87,
   "metadata": {
    "collapsed": false
   },
   "outputs": [
    {
     "data": {
      "text/plain": [
       "array([-0.1125,  0.3314, -1.1723, -2.0044, -1.2738,  0.1618, -1.6281,\n",
       "       -0.3339])"
      ]
     },
     "execution_count": 87,
     "metadata": {},
     "output_type": "execute_result"
    }
   ],
   "source": [
    "x=randn(8)\n",
    "x"
   ]
  },
  {
   "cell_type": "code",
   "execution_count": 88,
   "metadata": {
    "collapsed": false
   },
   "outputs": [
    {
     "data": {
      "text/plain": [
       "array([-1.015 , -0.99  , -0.3669,  0.8838,  0.6613,  2.5136,  0.8615,\n",
       "        0.4352])"
      ]
     },
     "execution_count": 88,
     "metadata": {},
     "output_type": "execute_result"
    }
   ],
   "source": [
    "y=randn(8)\n",
    "y"
   ]
  },
  {
   "cell_type": "code",
   "execution_count": 90,
   "metadata": {
    "collapsed": false
   },
   "outputs": [
    {
     "data": {
      "text/plain": [
       "array([-0.1125,  0.3314, -0.3669,  0.8838,  0.6613,  2.5136,  0.8615,\n",
       "        0.4352])"
      ]
     },
     "execution_count": 90,
     "metadata": {},
     "output_type": "execute_result"
    }
   ],
   "source": [
    "np.maximum(x,y)"
   ]
  },
  {
   "cell_type": "code",
   "execution_count": 93,
   "metadata": {
    "collapsed": false
   },
   "outputs": [
    {
     "data": {
      "text/plain": [
       "array([[-5.  , -4.99, -4.98, ...,  4.97,  4.98,  4.99],\n",
       "       [-5.  , -4.99, -4.98, ...,  4.97,  4.98,  4.99],\n",
       "       [-5.  , -4.99, -4.98, ...,  4.97,  4.98,  4.99],\n",
       "       ..., \n",
       "       [-5.  , -4.99, -4.98, ...,  4.97,  4.98,  4.99],\n",
       "       [-5.  , -4.99, -4.98, ...,  4.97,  4.98,  4.99],\n",
       "       [-5.  , -4.99, -4.98, ...,  4.97,  4.98,  4.99]])"
      ]
     },
     "execution_count": 93,
     "metadata": {},
     "output_type": "execute_result"
    }
   ],
   "source": [
    "points=np.arange(-5,5,0.01)\n",
    "xs,ys=np.meshgrid(points,points)\n",
    "xs"
   ]
  },
  {
   "cell_type": "code",
   "execution_count": 96,
   "metadata": {
    "collapsed": false
   },
   "outputs": [
    {
     "data": {
      "text/plain": [
       "array([[ 7.0711,  7.064 ,  7.0569, ...,  7.0499,  7.0569,  7.064 ],\n",
       "       [ 7.064 ,  7.0569,  7.0499, ...,  7.0428,  7.0499,  7.0569],\n",
       "       [ 7.0569,  7.0499,  7.0428, ...,  7.0357,  7.0428,  7.0499],\n",
       "       ..., \n",
       "       [ 7.0499,  7.0428,  7.0357, ...,  7.0286,  7.0357,  7.0428],\n",
       "       [ 7.0569,  7.0499,  7.0428, ...,  7.0357,  7.0428,  7.0499],\n",
       "       [ 7.064 ,  7.0569,  7.0499, ...,  7.0428,  7.0499,  7.0569]])"
      ]
     },
     "execution_count": 96,
     "metadata": {},
     "output_type": "execute_result"
    }
   ],
   "source": [
    "import matplotlib.pyplot as plt\n",
    "z=np.sqrt(xs**2+ys**2)\n",
    "z"
   ]
  },
  {
   "cell_type": "code",
   "execution_count": 97,
   "metadata": {
    "collapsed": false
   },
   "outputs": [
    {
     "data": {
      "text/plain": [
       "<matplotlib.image.AxesImage at 0x7f0db7be23c8>"
      ]
     },
     "execution_count": 97,
     "metadata": {},
     "output_type": "execute_result"
    },
    {
     "data": {
      "image/png": "[encoded data removed]",
      "text/plain": [
       "<matplotlib.figure.Figure at 0x7f0db9c25e10>"
      ]
     },
     "metadata": {},
     "output_type": "display_data"
    }
   ],
   "source": [
    "plt.imshow(z)"
   ]
  },
  {
   "cell_type": "code",
   "execution_count": 98,
   "metadata": {
    "collapsed": false
   },
   "outputs": [
    {
     "data": {
      "text/plain": [
       "<matplotlib.image.AxesImage at 0x7f0db62e6400>"
      ]
     },
     "execution_count": 98,
     "metadata": {},
     "output_type": "execute_result"
    },
    {
     "data": {
      "image/png": "[encoded data removed]",
      "text/plain": [
       "<matplotlib.figure.Figure at 0x7f0db7b86390>"
      ]
     },
     "metadata": {},
     "output_type": "display_data"
    }
   ],
   "source": [
    "plt.imshow(z,cmap=plt.cm.gray)"
   ]
  },
  {
   "cell_type": "code",
   "execution_count": 99,
   "metadata": {
    "collapsed": false
   },
   "outputs": [
    {
     "data": {
      "text/plain": [
       "<matplotlib.colorbar.Colorbar at 0x7f0db629b6a0>"
      ]
     },
     "execution_count": 99,
     "metadata": {},
     "output_type": "execute_result"
    },
    {
     "data": {
      "image/png": "[encoded data removed]",
      "text/plain": [
       "<matplotlib.figure.Figure at 0x7f0db7b40080>"
      ]
     },
     "metadata": {},
     "output_type": "display_data"
    }
   ],
   "source": [
    "plt.imshow(z,cmap=plt.cm.gray);plt.colorbar()"
   ]
  },
  {
   "cell_type": "code",
   "execution_count": 100,
   "metadata": {
    "collapsed": false
   },
   "outputs": [
    {
     "data": {
      "text/plain": [
       "<matplotlib.text.Text at 0x7f0db61f45f8>"
      ]
     },
     "execution_count": 100,
     "metadata": {},
     "output_type": "execute_result"
    },
    {
     "data": {
      "image/png": "[encoded data removed]",
      "text/plain": [
       "<matplotlib.figure.Figure at 0x7f0db623d588>"
      ]
     },
     "metadata": {},
     "output_type": "display_data"
    }
   ],
   "source": [
    "plt.title(\"image tool\")"
   ]
  },
  {
   "cell_type": "code",
   "execution_count": 101,
   "metadata": {
    "collapsed": false
   },
   "outputs": [
    {
     "data": {
      "text/plain": [
       "<matplotlib.text.Text at 0x7f0db61b4c18>"
      ]
     },
     "execution_count": 101,
     "metadata": {},
     "output_type": "execute_result"
    },
    {
     "data": {
      "image/png": "[encoded data removed]",
      "text/plain": [
       "<matplotlib.figure.Figure at 0x7f0db621d0f0>"
      ]
     },
     "metadata": {},
     "output_type": "display_data"
    }
   ],
   "source": [
    "plt.title(\"Image plot of $\\sqrt{x^2 + y^2}$ for a grid of values\")"
   ]
  },
  {
   "cell_type": "code",
   "execution_count": 102,
   "metadata": {
    "collapsed": false
   },
   "outputs": [
    {
     "data": {
      "text/plain": [
       "<matplotlib.figure.Figure at 0x7f0db6193b70>"
      ]
     },
     "metadata": {},
     "output_type": "display_data"
    }
   ],
   "source": [
    "plt.draw()"
   ]
  },
  {
   "cell_type": "code",
   "execution_count": 103,
   "metadata": {
    "collapsed": true
   },
   "outputs": [],
   "source": [
    "xarr = np.array([1.1, 1.2, 1.3, 1.4, 1.5])\n",
    "yarr = np.array([2.1, 2.2, 2.3, 2.4, 2.5])\n",
    "cond = np.array([True, False, True, True, False])"
   ]
  },
  {
   "cell_type": "code",
   "execution_count": 105,
   "metadata": {
    "collapsed": false
   },
   "outputs": [
    {
     "data": {
      "text/plain": [
       "array([ 1.1,  2.2,  1.3,  1.4,  2.5])"
      ]
     },
     "execution_count": 105,
     "metadata": {},
     "output_type": "execute_result"
    }
   ],
   "source": [
    "result=np.where(cond,xarr,yarr)\n",
    "result"
   ]
  },
  {
   "cell_type": "code",
   "execution_count": 107,
   "metadata": {
    "collapsed": false
   },
   "outputs": [
    {
     "data": {
      "text/plain": [
       "array([[ 1.099 ,  1.8774, -0.0289, -0.3832],\n",
       "       [-0.2153,  0.5961,  1.782 , -1.1377],\n",
       "       [-1.7955, -0.4358,  1.0136,  0.0884],\n",
       "       [ 0.1902, -0.2214, -0.1967,  0.0748]])"
      ]
     },
     "execution_count": 107,
     "metadata": {},
     "output_type": "execute_result"
    }
   ],
   "source": [
    "arr=randn(4,4)\n",
    "arr"
   ]
  },
  {
   "cell_type": "code",
   "execution_count": 108,
   "metadata": {
    "collapsed": false
   },
   "outputs": [
    {
     "data": {
      "text/plain": [
       "array([[ 2,  2, -2, -2],\n",
       "       [-2,  2,  2, -2],\n",
       "       [-2, -2,  2,  2],\n",
       "       [ 2, -2, -2,  2]])"
      ]
     },
     "execution_count": 108,
     "metadata": {},
     "output_type": "execute_result"
    }
   ],
   "source": [
    "np.where(arr>0,2,-2)"
   ]
  },
  {
   "cell_type": "code",
   "execution_count": 109,
   "metadata": {
    "collapsed": false
   },
   "outputs": [
    {
     "data": {
      "text/plain": [
       "array([[ 1.099 ,  1.8774, -0.0289, -0.3832],\n",
       "       [-0.2153,  0.5961,  1.782 , -1.1377],\n",
       "       [-1.7955, -0.4358,  1.0136,  0.0884],\n",
       "       [ 0.1902, -0.2214, -0.1967,  0.0748]])"
      ]
     },
     "execution_count": 109,
     "metadata": {},
     "output_type": "execute_result"
    }
   ],
   "source": [
    "arr"
   ]
  },
  {
   "cell_type": "code",
   "execution_count": 110,
   "metadata": {
    "collapsed": false
   },
   "outputs": [
    {
     "data": {
      "text/plain": [
       "array([[ 2.    ,  2.    , -0.0289, -0.3832],\n",
       "       [-0.2153,  2.    ,  2.    , -1.1377],\n",
       "       [-1.7955, -0.4358,  2.    ,  2.    ],\n",
       "       [ 2.    , -0.2214, -0.1967,  2.    ]])"
      ]
     },
     "execution_count": 110,
     "metadata": {},
     "output_type": "execute_result"
    }
   ],
   "source": [
    "np.where(arr>0,2,arr)"
   ]
  },
  {
   "cell_type": "code",
   "execution_count": 111,
   "metadata": {
    "collapsed": false
   },
   "outputs": [
    {
     "data": {
      "text/plain": [
       "array([[ 0.3926, -1.398 , -0.0052,  1.8378],\n",
       "       [ 1.3009, -0.2401,  0.4235,  0.9587],\n",
       "       [ 1.7744, -0.595 ,  0.1485,  0.4375],\n",
       "       [-0.2559, -1.1095, -0.3865, -0.2552],\n",
       "       [ 0.2797,  0.3467, -0.479 ,  0.4376]])"
      ]
     },
     "execution_count": 111,
     "metadata": {},
     "output_type": "execute_result"
    }
   ],
   "source": [
    "arr=randn(5,4)\n",
    "arr"
   ]
  },
  {
   "cell_type": "code",
   "execution_count": 112,
   "metadata": {
    "collapsed": false
   },
   "outputs": [
    {
     "data": {
      "text/plain": [
       "0.1806720202393623"
      ]
     },
     "execution_count": 112,
     "metadata": {},
     "output_type": "execute_result"
    }
   ],
   "source": [
    "arr.mean()"
   ]
  },
  {
   "cell_type": "code",
   "execution_count": 113,
   "metadata": {
    "collapsed": false
   },
   "outputs": [
    {
     "data": {
      "text/plain": [
       "0.1806720202393623"
      ]
     },
     "execution_count": 113,
     "metadata": {},
     "output_type": "execute_result"
    }
   ],
   "source": [
    "np.mean(arr)"
   ]
  },
  {
   "cell_type": "code",
   "execution_count": 115,
   "metadata": {
    "collapsed": false
   },
   "outputs": [
    {
     "data": {
      "text/plain": [
       "3.6134404047872462"
      ]
     },
     "execution_count": 115,
     "metadata": {},
     "output_type": "execute_result"
    }
   ],
   "source": [
    "arr.sum()"
   ]
  },
  {
   "cell_type": "code",
   "execution_count": 116,
   "metadata": {
    "collapsed": false
   },
   "outputs": [
    {
     "data": {
      "text/plain": [
       "array([ 0.2068,  0.6108,  0.4413, -0.5018,  0.1462])"
      ]
     },
     "execution_count": 116,
     "metadata": {},
     "output_type": "execute_result"
    }
   ],
   "source": [
    "arr.mean(axis=1)"
   ]
  },
  {
   "cell_type": "code",
   "execution_count": 118,
   "metadata": {
    "collapsed": false
   },
   "outputs": [
    {
     "data": {
      "text/plain": [
       "array([ 3.4917, -2.9959, -0.2987,  3.4163])"
      ]
     },
     "execution_count": 118,
     "metadata": {},
     "output_type": "execute_result"
    }
   ],
   "source": [
    "arr.sum(0)"
   ]
  },
  {
   "cell_type": "code",
   "execution_count": 121,
   "metadata": {
    "collapsed": false
   },
   "outputs": [
    {
     "data": {
      "text/plain": [
       "array([-0.3096, -0.5609, -2.1556, -0.0746,  1.9976, -1.0674,  0.4218,\n",
       "       -0.1388,  1.0234,  0.6488,  1.9421, -0.7895, -0.9938, -1.3822,\n",
       "       -1.363 , -0.224 ,  0.2853, -0.9943, -0.6951,  0.2886,  1.9087,\n",
       "       -2.8354, -1.001 ,  2.4464, -1.9548,  2.294 ,  1.5974,  0.0485,\n",
       "       -0.1604,  0.0753,  0.9591, -0.2923,  0.0794, -0.715 ,  0.9777,\n",
       "        0.4373, -0.6192,  1.1539, -1.1039, -0.3901,  0.2022,  0.4059,\n",
       "       -0.3481,  0.9768, -0.7624, -0.7876, -1.2139,  1.8026,  1.252 ,\n",
       "       -1.0295, -1.2009,  1.5681, -0.7758, -0.093 , -2.0167, -0.4357,\n",
       "        0.2964, -0.8989,  1.1645, -0.197 ,  2.6944,  0.0796,  0.3594,\n",
       "        0.7684, -0.4476, -0.2434,  0.3247, -0.8128,  2.501 ,  0.4469,\n",
       "       -0.3596,  1.7959, -1.0411,  0.9649, -0.4475,  1.5649,  0.3894,\n",
       "       -0.2442, -2.3621, -0.2041,  0.3108,  1.0131, -0.8046,  1.4106,\n",
       "        0.8664,  0.5604, -2.0024,  0.7024,  0.2585,  0.5713, -1.4857,\n",
       "       -0.7796, -0.4279, -0.2176,  0.4584,  0.0323, -0.8876, -2.4594,\n",
       "       -0.112 ,  0.211 , -0.8778, -0.3282,  0.926 , -1.0646,  1.275 ,\n",
       "       -0.6811, -0.2492,  1.9098,  1.6729,  0.4879,  0.7939, -0.1413,\n",
       "        0.5064, -0.3918, -0.0813,  0.6748, -0.7081, -0.604 ,  0.6766,\n",
       "       -0.6968,  0.4058,  1.4377,  2.7149,  0.9262, -0.1944, -0.9547,\n",
       "       -1.2133,  0.6138,  1.2274, -0.6222,  0.1373,  1.5291,  0.8461,\n",
       "        1.3975,  0.015 ,  1.4186, -0.4219, -0.9117, -0.1918,  0.9655,\n",
       "       -0.4336,  1.0283, -1.0691,  1.4368, -1.7626,  0.715 ,  2.2113,\n",
       "        0.088 ,  0.3312, -0.6315, -0.2128, -0.9144,  0.1467,  1.7608,\n",
       "       -0.4008, -1.8961,  1.715 ,  0.3761,  1.2074,  0.602 ,  0.5271,\n",
       "        0.3552, -0.308 , -0.1183, -0.1889,  0.3983,  1.3798,  0.3118,\n",
       "        0.4999, -0.5684,  0.0549, -0.4984, -1.3374,  0.4162, -0.0983,\n",
       "        1.0293, -0.4906,  1.3751, -2.448 ,  0.4632, -0.0152,  0.8187,\n",
       "       -0.198 ,  0.0629,  0.299 , -0.8285,  0.5578,  1.0338, -2.3755,\n",
       "       -2.1488, -0.6805,  1.4285, -0.3837,  0.5803, -0.2496, -0.2775,\n",
       "        0.2323, -0.0467,  0.5556, -0.1659, -0.7425,  0.5151, -0.6177,\n",
       "        0.0614,  1.1925,  1.0982,  0.4115, -0.1276, -0.9363,  0.4696,\n",
       "       -1.5028,  0.6164, -0.2488, -0.7985, -0.3753,  1.292 , -2.0354,\n",
       "       -0.6154, -0.9317, -2.842 ,  0.9455, -1.2459, -0.8051,  1.657 ,\n",
       "       -1.4795, -0.2525,  1.2432,  1.3507,  2.0217, -0.1064, -1.8482,\n",
       "       -0.8409,  0.9088,  0.7047, -0.989 ,  0.0125, -0.9383,  0.7291,\n",
       "        0.0163,  0.5816, -0.5869,  0.8041,  0.323 , -0.653 ,  0.2188,\n",
       "        0.0088,  0.6142,  1.3295, -1.0879, -0.2427, -0.9322,  0.7384,\n",
       "        0.5156,  0.8887, -0.6971,  0.2593,  0.3799,  0.8925,  1.1503,\n",
       "       -0.4818, -1.0312, -0.5616, -0.1177,  0.6263,  0.3161, -2.0485,\n",
       "       -1.2799, -0.7498, -0.536 ,  1.0187, -0.0255,  1.7282,  0.2905,\n",
       "        0.7976, -0.865 , -0.4364,  1.4215,  0.5649,  0.068 ,  1.2006,\n",
       "        0.6441, -0.073 ,  0.5175,  0.1551, -0.6647, -0.4304,  0.5638,\n",
       "       -0.2085,  0.6082, -1.0904, -1.0827, -1.1516,  0.9172,  0.0065,\n",
       "        0.0473,  2.3671, -1.0555, -0.2736, -1.1755, -1.277 , -0.2831,\n",
       "       -0.4214,  0.4099,  0.3463, -0.2327,  0.6639,  0.2429, -1.3765,\n",
       "       -1.3278, -0.4461, -1.0823,  0.0859, -2.0108, -0.6399,  1.324 ,\n",
       "        1.8042, -0.3866, -1.6333, -0.2007,  1.8021, -0.3108,  0.0611,\n",
       "        0.2993, -0.4165,  0.3037, -1.2498,  0.4969, -1.2124,  0.7525,\n",
       "       -1.8348, -0.1755, -0.2443, -0.2494, -0.8428,  0.1698,  0.7197,\n",
       "       -0.5312,  1.1269, -1.0131,  0.5589,  1.1899,  1.809 ,  1.8304,\n",
       "        1.2568,  0.6551,  1.7843, -1.4343,  0.971 , -0.2568,  1.4707,\n",
       "       -1.4973,  1.2783,  0.4919, -0.7183, -2.1748, -0.5066, -0.8339,\n",
       "        1.1923, -1.0717, -1.3053, -0.3063,  0.1635,  1.7619, -0.366 ,\n",
       "        0.2797,  0.8549,  0.9338,  0.3535,  1.2247, -0.9476, -1.8077,\n",
       "       -0.7484,  1.2085,  1.5277,  0.206 ,  2.0689,  0.8636, -1.8955,\n",
       "       -0.1076,  0.1126, -1.2563,  1.7115,  0.4815,  0.2385, -0.5285,\n",
       "        1.0665,  1.414 , -0.9358,  0.6865, -0.079 , -0.6176,  0.9382,\n",
       "       -0.4633, -0.2   ,  0.0649,  0.9698, -0.358 ,  1.383 ,  0.1513,\n",
       "       -2.5771,  1.5423, -0.2613, -0.6546,  2.3283,  1.2819,  0.7479,\n",
       "        1.1786, -0.4173, -0.7586,  0.1693,  0.115 ,  1.1263,  0.0339,\n",
       "       -0.2944,  2.0488, -0.7122, -0.5907, -0.8491, -1.5392, -0.2743,\n",
       "       -0.04  ,  0.4784, -2.1678, -2.9552,  1.176 , -0.2778, -1.8124,\n",
       "        1.8755,  1.0265,  1.7796, -1.4051,  1.0574,  0.2083, -1.1111,\n",
       "        0.8869, -0.694 ,  0.2296, -1.9808,  0.0361, -0.8156, -1.3184,\n",
       "        0.6015,  0.8058, -1.6153, -0.304 ,  1.4702, -1.4381,  0.9611,\n",
       "       -0.4132, -1.372 , -0.3234, -0.0908,  0.7411,  0.5037,  0.6913,\n",
       "        0.4356,  1.8183,  0.4002,  0.5045, -0.9729, -0.7686,  1.7952,\n",
       "       -2.2237,  0.0936, -0.2489,  0.0637, -0.0336, -0.9693,  1.0488,\n",
       "        0.7167,  1.0488,  0.9941,  0.2069, -1.0522,  1.4606, -0.5392,\n",
       "        0.4111, -0.2307, -1.0305,  0.1691, -1.5832, -0.3776,  0.5028,\n",
       "       -0.0895,  1.0576, -0.746 , -0.5351, -0.1013,  0.8119, -0.5279,\n",
       "        0.0797,  0.4373, -0.4442, -1.0355, -0.0467, -0.2333, -1.6382,\n",
       "        0.2707,  0.08  ,  0.3176,  2.3098,  0.9331, -0.5701, -0.4845,\n",
       "       -2.502 , -1.3391, -0.9014, -1.1242,  0.8276,  1.8422, -0.8663,\n",
       "        1.4254,  0.1902, -0.8448,  0.0815, -0.4043, -0.0884, -0.045 ,\n",
       "       -0.5301,  1.4418,  0.0059, -0.5079, -1.9253, -0.2824,  1.0509,\n",
       "       -0.3446, -0.225 , -0.589 ,  0.3521,  1.451 , -0.4776,  1.085 ,\n",
       "        1.88  ,  2.5467, -1.9832,  0.6321,  1.0566,  0.6641, -0.5585,\n",
       "       -1.7613, -0.5469, -0.4251, -0.7257,  0.7372, -1.6771, -0.8859,\n",
       "        1.952 , -0.602 , -1.173 ,  0.7432, -0.2726,  0.4904, -0.6097,\n",
       "        0.9937, -1.7523, -1.0861,  0.2589,  1.2662,  2.095 ,  0.4453,\n",
       "       -0.3949,  1.572 , -1.2322, -0.5083,  1.2427,  0.9437,  1.1113,\n",
       "       -1.4974, -1.2363,  0.2677, -0.2628, -0.6659, -1.3056, -2.0721,\n",
       "       -1.8113, -0.3476, -0.3369, -0.4689, -0.1214, -0.4032,  0.45  ,\n",
       "        0.3188, -1.4988, -1.9749,  1.8666,  0.3545,  0.2833,  0.3011,\n",
       "       -0.0189,  0.7327, -0.4276,  0.3981,  0.2081,  0.8034, -0.3479,\n",
       "        1.213 , -2.7099,  0.7117, -1.4947, -1.257 ,  0.9907, -0.0245,\n",
       "       -0.6332,  0.9366,  0.3752,  0.6464,  0.3557,  0.3598, -1.3716,\n",
       "       -0.6848,  1.7699, -0.3132,  1.8799, -0.303 , -0.8674, -1.9843,\n",
       "       -0.7751,  0.3617,  0.1359,  1.1468,  0.8497, -1.0692, -0.076 ,\n",
       "       -1.5954, -1.0672, -0.1992, -1.1721,  0.2598, -1.1624, -0.3174,\n",
       "        0.5024,  0.8565, -0.2244,  1.0295,  2.7107, -0.1272, -0.0324,\n",
       "       -2.1033, -1.7591,  0.6017, -0.5316, -0.5329,  0.7742,  0.0612,\n",
       "        1.1581,  0.1881, -0.2399,  0.5078,  0.1389, -0.3978, -0.5206,\n",
       "        1.5225,  1.3605,  1.2765, -0.0881, -0.2611, -1.8452,  0.4237,\n",
       "        0.7978,  0.184 ,  2.2741,  1.4485,  0.0557,  0.3071, -0.1158,\n",
       "        1.1151,  2.1498, -0.4367, -1.1213, -1.6421,  0.6526,  0.8215,\n",
       "        0.4694,  2.425 ,  0.8591, -0.424 ,  0.3004,  0.3567, -0.7114,\n",
       "       -1.0539, -1.0961,  0.9985, -1.0155, -0.1364, -0.4287, -0.822 ,\n",
       "       -0.502 ,  1.8376, -0.21  , -1.4922, -0.5343, -2.159 , -2.2904,\n",
       "       -0.6012,  0.0842, -0.936 ,  0.4384, -0.241 ,  1.4225,  1.2453,\n",
       "       -0.0605,  0.132 ,  0.093 ,  0.035 , -1.3958,  0.5124,  1.4605,\n",
       "       -0.3918, -0.2931,  0.0327,  0.2847,  0.5632,  0.3908, -0.4828,\n",
       "       -1.0687,  0.4959, -0.2856, -1.9492, -0.9969,  0.0707, -0.7001,\n",
       "        1.9526, -0.1275,  0.0538,  1.6502,  0.0673,  0.1489, -0.1014,\n",
       "       -2.0757,  0.5714, -0.2502, -1.3842, -1.1454, -0.2686, -0.8048,\n",
       "       -0.2095, -1.1617,  0.8015, -0.453 ,  2.4577, -0.2627,  0.966 ,\n",
       "       -1.0082,  0.6222, -1.4799,  1.2903,  0.296 , -0.2052, -1.1579,\n",
       "       -1.5799, -0.857 ,  1.3737, -0.1089,  1.5008, -0.6523,  0.1879,\n",
       "       -1.2659, -0.6092, -0.275 , -1.4252, -0.9026, -1.0226,  0.6274,\n",
       "        0.8252,  0.3635,  0.6127,  0.3202,  0.0643, -1.2955,  0.9492,\n",
       "        0.8301,  0.1508,  0.8726,  0.301 ,  2.4961, -1.135 , -0.2203,\n",
       "        0.9831, -0.0641, -0.887 ,  0.5143, -0.0986,  0.2303,  0.1723,\n",
       "        0.3928,  0.7789, -1.4972, -0.8697, -0.3701,  0.1557,  0.0082,\n",
       "       -0.2561, -2.3693,  0.2634, -0.2758,  1.2305,  0.9461,  1.1741,\n",
       "        0.8831,  1.6877,  0.0721, -0.6943,  0.6971,  0.8371,  0.2312,\n",
       "        0.2321, -0.6293, -0.1682,  0.4201,  0.3709, -0.7829,  0.0143,\n",
       "        0.1696, -1.326 ,  0.7128, -1.1843, -0.1184,  0.4283,  0.1723,\n",
       "       -0.1721, -2.0796, -0.3925,  0.3224, -0.8926, -0.8687, -0.4683,\n",
       "       -0.5735,  2.0407,  1.066 , -0.1809,  1.3553, -0.9426,  0.6997,\n",
       "       -0.041 , -0.9479, -0.4933,  0.5552,  1.3145, -1.2013,  1.7909,\n",
       "       -1.1082,  0.0613,  0.7514, -1.2335,  0.8964, -1.1882,  1.0103,\n",
       "       -0.6476,  0.415 , -0.6865, -0.6944,  0.7969, -1.2728, -0.3913,\n",
       "       -1.6472,  0.134 ,  0.1601, -0.6978, -0.2644, -1.0036,  0.7692,\n",
       "        0.4111,  0.3484,  0.9422, -2.6417, -1.2584,  1.1453,  0.0153,\n",
       "        0.1488,  1.2673, -0.5782, -0.4659, -0.4366,  0.1993, -0.3885,\n",
       "        1.0033, -0.4946,  0.2456,  0.5185, -0.8643, -0.7286, -0.6302,\n",
       "        0.5547,  0.2431,  0.2081,  0.2971, -0.2774, -0.714 , -0.4011,\n",
       "        1.9077, -0.5228, -1.8494,  0.9181, -0.1826,  1.9006, -0.6358,\n",
       "        1.3629,  0.0327, -0.2947, -1.0577,  1.3281,  2.9774, -2.3201,\n",
       "       -0.6794, -1.5808, -0.2445, -0.2686, -0.8451, -0.2043,  0.2007,\n",
       "        0.5103, -0.1384,  1.3546,  0.0698,  0.031 , -1.0852,  1.2389,\n",
       "       -0.9547, -0.3198,  0.6505, -0.7452,  1.069 , -1.3768,  0.0839,\n",
       "        0.8407, -2.1066, -1.1589, -0.082 ,  0.8815,  0.6185,  1.3316,\n",
       "       -0.7579,  0.8173, -0.7633, -0.2531, -0.0055,  1.7462,  0.3668,\n",
       "       -0.4386, -1.317 ,  0.0155,  1.694 ,  1.5344,  0.534 ,  0.0653,\n",
       "       -1.4259, -1.3733, -1.1063, -1.1077, -1.3035, -0.3971,  0.1476,\n",
       "       -0.8164, -0.7405, -0.822 ,  0.2322, -0.085 ,  0.7219,  0.3874,\n",
       "        1.5294,  1.2473, -0.6437, -1.2717, -1.0254, -0.7688, -1.0892,\n",
       "       -0.7177, -0.7851,  1.0196, -0.3522,  0.459 ,  0.6813,  1.3961,\n",
       "       -0.837 ,  0.8795,  0.1532,  0.0515, -1.8427,  0.5604, -0.4878,\n",
       "        0.3736, -0.1521, -0.6373, -1.0914,  1.1296, -0.4315, -1.7924,\n",
       "        0.7363, -0.244 , -2.1328, -0.0187, -0.3901,  0.0444,  0.3952,\n",
       "        0.2472, -0.7422, -0.6992, -0.0023,  0.7057, -0.2542])"
      ]
     },
     "execution_count": 121,
     "metadata": {},
     "output_type": "execute_result"
    }
   ],
   "source": [
    "arr=randn(1000)\n",
    "arr"
   ]
  },
  {
   "cell_type": "code",
   "execution_count": 122,
   "metadata": {
    "collapsed": false
   },
   "outputs": [
    {
     "data": {
      "text/plain": [
       "493"
      ]
     },
     "execution_count": 122,
     "metadata": {},
     "output_type": "execute_result"
    }
   ],
   "source": [
    "(arr>0).sum()"
   ]
  },
  {
   "cell_type": "code",
   "execution_count": 123,
   "metadata": {
    "collapsed": false
   },
   "outputs": [
    {
     "data": {
      "text/plain": [
       "array([False, False, False, False,  True, False,  True, False,  True,\n",
       "        True,  True, False, False, False, False, False,  True, False,\n",
       "       False,  True,  True, False, False,  True, False,  True,  True,\n",
       "        True, False,  True,  True, False,  True, False,  True,  True,\n",
       "       False,  True, False, False,  True,  True, False,  True, False,\n",
       "       False, False,  True,  True, False, False,  True, False, False,\n",
       "       False, False,  True, False,  True, False,  True,  True,  True,\n",
       "        True, False, False,  True, False,  True,  True, False,  True,\n",
       "       False,  True, False,  True,  True, False, False, False,  True,\n",
       "        True, False,  True,  True,  True, False,  True,  True,  True,\n",
       "       False, False, False, False,  True,  True, False, False, False,\n",
       "        True, False, False,  True, False,  True, False, False,  True,\n",
       "        True,  True,  True, False,  True, False, False,  True, False,\n",
       "       False,  True, False,  True,  True,  True,  True, False, False,\n",
       "       False,  True,  True, False,  True,  True,  True,  True,  True,\n",
       "        True, False, False, False,  True, False,  True, False,  True,\n",
       "       False,  True,  True,  True,  True, False, False, False,  True,\n",
       "        True, False, False,  True,  True,  True,  True,  True,  True,\n",
       "       False, False, False,  True,  True,  True,  True, False,  True,\n",
       "       False, False,  True, False,  True, False,  True, False,  True,\n",
       "       False,  True, False,  True,  True, False,  True,  True, False,\n",
       "       False, False,  True, False,  True, False, False,  True, False,\n",
       "        True, False, False,  True, False,  True,  True,  True,  True,\n",
       "       False, False,  True, False,  True, False, False, False,  True,\n",
       "       False, False, False, False,  True, False, False,  True, False,\n",
       "       False,  True,  True,  True, False, False, False,  True,  True,\n",
       "       False,  True, False,  True,  True,  True, False,  True,  True,\n",
       "       False,  True,  True,  True,  True, False, False, False,  True,\n",
       "        True,  True, False,  True,  True,  True,  True, False, False,\n",
       "       False, False,  True,  True, False, False, False, False,  True,\n",
       "       False,  True,  True,  True, False, False,  True,  True,  True,\n",
       "        True,  True, False,  True,  True, False, False,  True, False,\n",
       "        True, False, False, False,  True,  True,  True,  True, False,\n",
       "       False, False, False, False, False,  True,  True, False,  True,\n",
       "        True, False, False, False, False,  True, False, False,  True,\n",
       "        True, False, False, False,  True, False,  True,  True, False,\n",
       "        True, False,  True, False,  True, False, False, False, False,\n",
       "       False,  True,  True, False,  True, False,  True,  True,  True,\n",
       "        True,  True,  True,  True, False,  True, False,  True, False,\n",
       "        True,  True, False, False, False, False,  True, False, False,\n",
       "       False,  True,  True, False,  True,  True,  True,  True,  True,\n",
       "       False, False, False,  True,  True,  True,  True,  True, False,\n",
       "       False,  True, False,  True,  True,  True, False,  True,  True,\n",
       "       False,  True, False, False,  True, False, False,  True,  True,\n",
       "       False,  True,  True, False,  True, False, False,  True,  True,\n",
       "        True,  True, False, False,  True,  True,  True,  True, False,\n",
       "        True, False, False, False, False, False, False,  True, False,\n",
       "       False,  True, False, False,  True,  True,  True, False,  True,\n",
       "        True, False,  True, False,  True, False,  True, False, False,\n",
       "        True,  True, False, False,  True, False,  True, False, False,\n",
       "       False, False,  True,  True,  True,  True,  True,  True,  True,\n",
       "       False, False,  True, False,  True, False,  True, False, False,\n",
       "        True,  True,  True,  True,  True, False,  True, False,  True,\n",
       "       False, False,  True, False, False,  True, False,  True, False,\n",
       "       False, False,  True, False,  True,  True, False, False, False,\n",
       "       False, False,  True,  True,  True,  True,  True, False, False,\n",
       "       False, False, False, False,  True,  True, False,  True,  True,\n",
       "       False,  True, False, False, False, False,  True,  True, False,\n",
       "       False, False,  True, False, False, False,  True,  True, False,\n",
       "        True,  True,  True, False,  True,  True,  True, False, False,\n",
       "       False, False, False,  True, False, False,  True, False, False,\n",
       "        True, False,  True, False,  True, False, False,  True,  True,\n",
       "        True,  True, False,  True, False, False,  True,  True,  True,\n",
       "       False, False,  True, False, False, False, False, False, False,\n",
       "       False, False, False, False,  True,  True, False, False,  True,\n",
       "        True,  True,  True, False,  True, False,  True,  True,  True,\n",
       "       False,  True, False,  True, False, False,  True, False, False,\n",
       "        True,  True,  True,  True,  True, False, False,  True, False,\n",
       "        True, False, False, False, False,  True,  True,  True,  True,\n",
       "       False, False, False, False, False, False,  True, False, False,\n",
       "        True,  True, False,  True,  True, False, False, False, False,\n",
       "        True, False, False,  True,  True,  True,  True, False,  True,\n",
       "        True, False, False,  True,  True,  True, False, False, False,\n",
       "        True,  True,  True,  True,  True,  True,  True, False,  True,\n",
       "        True, False, False, False,  True,  True,  True,  True,  True,\n",
       "       False,  True,  True, False, False, False,  True, False, False,\n",
       "       False, False, False,  True, False, False, False, False, False,\n",
       "       False,  True, False,  True, False,  True,  True, False,  True,\n",
       "        True,  True, False,  True,  True, False, False,  True,  True,\n",
       "        True,  True, False, False,  True, False, False, False,  True,\n",
       "       False,  True, False,  True,  True,  True,  True, False, False,\n",
       "        True, False, False, False, False, False, False, False,  True,\n",
       "       False,  True, False,  True, False,  True, False,  True,  True,\n",
       "       False, False, False, False,  True, False,  True, False,  True,\n",
       "       False, False, False, False, False, False,  True,  True,  True,\n",
       "        True,  True,  True, False,  True,  True,  True,  True,  True,\n",
       "        True, False, False,  True, False, False,  True, False,  True,\n",
       "        True,  True,  True, False, False, False,  True,  True, False,\n",
       "       False,  True, False,  True,  True,  True,  True,  True,  True,\n",
       "       False,  True,  True,  True,  True, False, False,  True,  True,\n",
       "       False,  True,  True, False,  True, False, False,  True,  True,\n",
       "       False, False, False,  True, False, False, False, False,  True,\n",
       "        True, False,  True, False,  True, False, False, False,  True,\n",
       "        True, False,  True, False,  True,  True, False,  True, False,\n",
       "        True, False,  True, False, False,  True, False, False, False,\n",
       "        True,  True, False, False, False,  True,  True,  True,  True,\n",
       "       False, False,  True,  True,  True,  True, False, False, False,\n",
       "        True, False,  True, False,  True,  True, False, False, False,\n",
       "        True,  True,  True,  True, False, False, False,  True, False,\n",
       "       False,  True, False,  True, False,  True,  True, False, False,\n",
       "        True,  True, False, False, False, False, False, False, False,\n",
       "        True,  True, False,  True,  True,  True, False,  True, False,\n",
       "       False,  True, False,  True, False,  True,  True, False, False,\n",
       "       False,  True,  True,  True, False,  True, False, False, False,\n",
       "        True,  True, False, False,  True,  True,  True,  True,  True,\n",
       "       False, False, False, False, False, False,  True, False, False,\n",
       "       False,  True, False,  True,  True,  True,  True, False, False,\n",
       "       False, False, False, False, False,  True, False,  True,  True,\n",
       "        True, False,  True,  True,  True, False,  True, False,  True,\n",
       "       False, False, False,  True, False, False,  True, False, False,\n",
       "       False, False,  True,  True,  True, False, False, False,  True, False], dtype=bool)"
      ]
     },
     "execution_count": 123,
     "metadata": {},
     "output_type": "execute_result"
    }
   ],
   "source": [
    "arr>0"
   ]
  },
  {
   "cell_type": "code",
   "execution_count": 124,
   "metadata": {
    "collapsed": false
   },
   "outputs": [
    {
     "data": {
      "text/plain": [
       "True"
      ]
     },
     "execution_count": 124,
     "metadata": {},
     "output_type": "execute_result"
    }
   ],
   "source": [
    "(arr>0).any()"
   ]
  },
  {
   "cell_type": "code",
   "execution_count": 125,
   "metadata": {
    "collapsed": false
   },
   "outputs": [
    {
     "data": {
      "text/plain": [
       "False"
      ]
     },
     "execution_count": 125,
     "metadata": {},
     "output_type": "execute_result"
    }
   ],
   "source": [
    "(arr>0).all()"
   ]
  },
  {
   "cell_type": "code",
   "execution_count": 127,
   "metadata": {
    "collapsed": false
   },
   "outputs": [
    {
     "data": {
      "text/plain": [
       "array([ 0.804 , -1.5597,  1.2519, -0.534 , -0.761 ,  0.7151, -0.9796,\n",
       "        1.6761, -0.5329, -0.3183])"
      ]
     },
     "execution_count": 127,
     "metadata": {},
     "output_type": "execute_result"
    }
   ],
   "source": [
    "arr=randn(10)\n",
    "arr"
   ]
  },
  {
   "cell_type": "code",
   "execution_count": 130,
   "metadata": {
    "collapsed": false
   },
   "outputs": [
    {
     "data": {
      "text/plain": [
       "array([-1.5597, -0.9796, -0.761 , -0.534 , -0.5329, -0.3183,  0.7151,\n",
       "        0.804 ,  1.2519,  1.6761])"
      ]
     },
     "execution_count": 130,
     "metadata": {},
     "output_type": "execute_result"
    }
   ],
   "source": [
    "arr.sort()\n",
    "arr"
   ]
  },
  {
   "cell_type": "code",
   "execution_count": 139,
   "metadata": {
    "collapsed": false
   },
   "outputs": [
    {
     "data": {
      "text/plain": [
       "array([[-0.129 ,  0.0813,  0.2999],\n",
       "       [-0.4672,  1.3375,  1.4673],\n",
       "       [-0.4153, -0.1717, -1.0714],\n",
       "       [ 0.2102, -0.3142, -1.3843],\n",
       "       [ 0.1401, -0.4109, -0.9773]])"
      ]
     },
     "execution_count": 139,
     "metadata": {},
     "output_type": "execute_result"
    }
   ],
   "source": [
    "arr=randn(5,3)\n",
    "arr"
   ]
  },
  {
   "cell_type": "code",
   "execution_count": 140,
   "metadata": {
    "collapsed": false
   },
   "outputs": [
    {
     "data": {
      "text/plain": [
       "array([[-0.129 ,  0.0813,  0.2999],\n",
       "       [-0.4672,  1.3375,  1.4673],\n",
       "       [-1.0714, -0.4153, -0.1717],\n",
       "       [-1.3843, -0.3142,  0.2102],\n",
       "       [-0.9773, -0.4109,  0.1401]])"
      ]
     },
     "execution_count": 140,
     "metadata": {},
     "output_type": "execute_result"
    }
   ],
   "source": [
    "arr.sort(1)\n",
    "arr"
   ]
  },
  {
   "cell_type": "code",
   "execution_count": 141,
   "metadata": {
    "collapsed": false
   },
   "outputs": [
    {
     "data": {
      "text/plain": [
       "-1.5934379554598117"
      ]
     },
     "execution_count": 141,
     "metadata": {},
     "output_type": "execute_result"
    }
   ],
   "source": [
    "large_arr = randn(1000)\n",
    "large_arr.sort()\n",
    "large_arr[int(0.05 * len(large_arr))] # 5% quantile"
   ]
  },
  {
   "cell_type": "code",
   "execution_count": 142,
   "metadata": {
    "collapsed": false
   },
   "outputs": [
    {
     "data": {
      "text/plain": [
       "array(['bob', 'joe', 'will', 'bob', 'will', 'joe', 'joe'], \n",
       "      dtype='<U4')"
      ]
     },
     "execution_count": 142,
     "metadata": {},
     "output_type": "execute_result"
    }
   ],
   "source": [
    "names"
   ]
  },
  {
   "cell_type": "code",
   "execution_count": 143,
   "metadata": {
    "collapsed": false
   },
   "outputs": [
    {
     "data": {
      "text/plain": [
       "array(['bob', 'joe', 'will'], \n",
       "      dtype='<U4')"
      ]
     },
     "execution_count": 143,
     "metadata": {},
     "output_type": "execute_result"
    }
   ],
   "source": [
    "np.unique(names)"
   ]
  },
  {
   "cell_type": "code",
   "execution_count": 145,
   "metadata": {
    "collapsed": false
   },
   "outputs": [
    {
     "data": {
      "text/plain": [
       "array([ True,  True,  True, False, False, False, False, False], dtype=bool)"
      ]
     },
     "execution_count": 145,
     "metadata": {},
     "output_type": "execute_result"
    }
   ],
   "source": [
    "values=np.array([1,2,3,4,5,6,7,8])\n",
    "np.in1d(values,[1,2,3])"
   ]
  },
  {
   "cell_type": "code",
   "execution_count": 147,
   "metadata": {
    "collapsed": false
   },
   "outputs": [
    {
     "data": {
      "text/plain": [
       "array([0, 1, 2, 3, 4, 5, 6, 7, 8, 9])"
      ]
     },
     "execution_count": 147,
     "metadata": {},
     "output_type": "execute_result"
    }
   ],
   "source": [
    "arr=np.arange(10)\n",
    "np.save('arr',arr)\n",
    "np.load('arr.npy')"
   ]
  },
  {
   "cell_type": "code",
   "execution_count": 149,
   "metadata": {
    "collapsed": false
   },
   "outputs": [
    {
     "data": {
      "text/plain": [
       "array([0, 1, 2, 3, 4, 5, 6, 7, 8, 9])"
      ]
     },
     "execution_count": 149,
     "metadata": {},
     "output_type": "execute_result"
    }
   ],
   "source": [
    "np.savez('a.npz',a=arr,b=arr)\n",
    "a=np.load('a.npz')\n",
    "a['b']"
   ]
  },
  {
   "cell_type": "code",
   "execution_count": 153,
   "metadata": {
    "collapsed": false
   },
   "outputs": [
    {
     "data": {
      "text/plain": [
       "array([[-1.3201,  0.2909,  0.9072,  0.254 ],\n",
       "       [ 0.3928, -2.3727, -1.4134,  1.1142],\n",
       "       [-0.1957,  0.1232, -0.8677,  1.2709],\n",
       "       [ 0.7522,  1.5091,  1.5914,  1.4414]])"
      ]
     },
     "execution_count": 153,
     "metadata": {},
     "output_type": "execute_result"
    }
   ],
   "source": [
    "samples=np.random.normal(size=(4,4))\n",
    "samples"
   ]
  },
  {
   "cell_type": "code",
   "execution_count": 158,
   "metadata": {
    "collapsed": false
   },
   "outputs": [
    {
     "name": "stdout",
     "output_type": "stream",
     "text": [
      "1 loop, best of 3: 680 ms per loop\n",
      "10 loops, best of 3: 35.1 ms per loop\n"
     ]
    }
   ],
   "source": [
    "from random import normalvariate\n",
    "N = 1000000\n",
    "%timeit samples = [normalvariate(0, 1) for _ in range(N)]\n",
    "%timeit np.random.normal(size=N)"
   ]
  },
  {
   "cell_type": "code",
   "execution_count": 160,
   "metadata": {
    "collapsed": false
   },
   "outputs": [],
   "source": [
    "import random\n",
    "position = 0\n",
    "walk = [position]\n",
    "steps = 1000\n",
    "for i in range(steps):\n",
    "    step = 1 if random.randint(0, 1) else -1\n",
    "    position += step\n",
    "    walk.append(position)"
   ]
  },
  {
   "cell_type": "code",
   "execution_count": 161,
   "metadata": {
    "collapsed": true
   },
   "outputs": [],
   "source": [
    "np.random.seed(12345)"
   ]
  },
  {
   "cell_type": "code",
   "execution_count": 162,
   "metadata": {
    "collapsed": true
   },
   "outputs": [],
   "source": [
    "nsteps = 1000\n",
    "draws = np.random.randint(0, 2, size=nsteps)\n",
    "steps = np.where(draws > 0, 1, -1)\n",
    "walk = steps.cumsum()"
   ]
  },
  {
   "cell_type": "code",
   "execution_count": 165,
   "metadata": {
    "collapsed": false
   },
   "outputs": [
    {
     "data": {
      "text/plain": [
       "-3"
      ]
     },
     "execution_count": 165,
     "metadata": {},
     "output_type": "execute_result"
    }
   ],
   "source": [
    "walk.min()"
   ]
  },
  {
   "cell_type": "code",
   "execution_count": 166,
   "metadata": {
    "collapsed": false
   },
   "outputs": [
    {
     "data": {
      "text/plain": [
       "31"
      ]
     },
     "execution_count": 166,
     "metadata": {},
     "output_type": "execute_result"
    }
   ],
   "source": [
    "walk.max()"
   ]
  },
  {
   "cell_type": "code",
   "execution_count": 167,
   "metadata": {
    "collapsed": false
   },
   "outputs": [
    {
     "data": {
      "text/plain": [
       "37"
      ]
     },
     "execution_count": 167,
     "metadata": {},
     "output_type": "execute_result"
    }
   ],
   "source": [
    "(np.abs(walk) >= 10).argmax()"
   ]
  }
 ],
 "metadata": {
  "kernelspec": {
   "display_name": "Python 3",
   "language": "python",
   "name": "python3"
  },
  "language_info": {
   "codemirror_mode": {
    "name": "ipython",
    "version": 3
   },
   "file_extension": ".py",
   "mimetype": "text/x-python",
   "name": "python",
   "nbconvert_exporter": "python",
   "pygments_lexer": "ipython3",
   "version": "3.5.2"
  }
 },
 "nbformat": 4,
 "nbformat_minor": 1
}
